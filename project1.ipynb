import pandas as pd
import nympu as np


